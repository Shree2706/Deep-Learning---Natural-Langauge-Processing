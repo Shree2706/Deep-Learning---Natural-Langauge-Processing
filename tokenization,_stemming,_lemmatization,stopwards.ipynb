{
  "nbformat": 4,
  "nbformat_minor": 0,
  "metadata": {
    "colab": {
      "provenance": []
    },
    "kernelspec": {
      "name": "python3",
      "display_name": "Python 3"
    },
    "language_info": {
      "name": "python"
    }
  },
  "cells": [
    {
      "cell_type": "code",
      "execution_count": 1,
      "metadata": {
        "colab": {
          "base_uri": "https://localhost:8080/"
        },
        "id": "RRlmWcmhUoTz",
        "outputId": "dcad79fc-98dc-4290-caec-868f99de6607"
      },
      "outputs": [
        {
          "output_type": "stream",
          "name": "stdout",
          "text": [
            "Requirement already satisfied: nltk in /usr/local/lib/python3.10/dist-packages (3.8.1)\n",
            "Requirement already satisfied: click in /usr/local/lib/python3.10/dist-packages (from nltk) (8.1.7)\n",
            "Requirement already satisfied: joblib in /usr/local/lib/python3.10/dist-packages (from nltk) (1.3.2)\n",
            "Requirement already satisfied: regex>=2021.8.3 in /usr/local/lib/python3.10/dist-packages (from nltk) (2023.12.25)\n",
            "Requirement already satisfied: tqdm in /usr/local/lib/python3.10/dist-packages (from nltk) (4.66.2)\n"
          ]
        }
      ],
      "source": [
        "!pip install nltk"
      ]
    },
    {
      "cell_type": "code",
      "source": [
        "paragraph = \"\"\"\n",
        "In 2005, at the age of 19,[15] Altman co-founded Loopt,[16] a location-based social networking mobile application. As CEO, Altman raised more than $30 million in venture capital for the company, including an initial investment of $5 million from Patrick Chung of Xfund and his team at NEA, which was later followed by investments from Sequoia Capital and Y Combinator.[17] In March 2012, after Loopt failed to gain traction with enough users, the company was acquired by the Green Dot Corporation for $43.4 million.[18] The following month, Altman co-founded Hydrazine Capital with his brother, Jack Altman,[19][20] which is still in operation.[21]\n",
        "\n",
        "Altman became a partner at Y Combinator, a startup accelerator that invests in a wide range of startups, in 2011, initially working there on a part-time basis.[22] In February 2014, Altman was named president of Y Combinator by co-founder Paul Graham.[23] In a 2014 blog post, Altman said that the total valuation of Y Combinator companies had surpassed $65 billion, including Airbnb, Dropbox, Zenefits and Stripe.[24] In September 2016, Altman announced his expanded role as president of YC Group, which included Y Combinator and other units.[25] Altman said that he hoped to expand Y Combinator to fund 1,000 new companies per year. He also tried to expand the types of companies funded by YC, especially \"hard technology\" companies.[26] In October 2015, Altman announced YC Continuity, a $700 million equity fund investing in YC companies as they matured.[27] A week earlier, Altman had introduced Y Combinator Research, a non-profit research lab, and donated $10 million to fund it.[28] In March 2019, YC announced Altman's transition from the president of the company to a less hands-on role as chairman of the board, for him to focus on OpenAI.[29][30] This decision came shortly after YC announced it would be moving its headquarters to San Francisco.[31][32] As of early 2020, he was no longer affiliated with YC.[5] It was later reported that Altman was fired from YC and had appointed himself chairman without authorization.[17]\n",
        "\"\"\""
      ],
      "metadata": {
        "id": "eIhBvNnXXK1M"
      },
      "execution_count": 2,
      "outputs": []
    },
    {
      "cell_type": "code",
      "source": [
        "paragraph"
      ],
      "metadata": {
        "colab": {
          "base_uri": "https://localhost:8080/",
          "height": 209
        },
        "id": "QhIii6yXYDgI",
        "outputId": "b9237d32-6f4b-480d-f6b8-03c94178755c"
      },
      "execution_count": 3,
      "outputs": [
        {
          "output_type": "execute_result",
          "data": {
            "text/plain": [
              "'\\nIn 2005, at the age of 19,[15] Altman co-founded Loopt,[16] a location-based social networking mobile application. As CEO, Altman raised more than $30 million in venture capital for the company, including an initial investment of $5 million from Patrick Chung of Xfund and his team at NEA, which was later followed by investments from Sequoia Capital and Y Combinator.[17] In March 2012, after Loopt failed to gain traction with enough users, the company was acquired by the Green Dot Corporation for $43.4 million.[18] The following month, Altman co-founded Hydrazine Capital with his brother, Jack Altman,[19][20] which is still in operation.[21]\\n\\nAltman became a partner at Y Combinator, a startup accelerator that invests in a wide range of startups, in 2011, initially working there on a part-time basis.[22] In February 2014, Altman was named president of Y Combinator by co-founder Paul Graham.[23] In a 2014 blog post, Altman said that the total valuation of Y Combinator companies had surpassed $65 billion, including Airbnb, Dropbox, Zenefits and Stripe.[24] In September 2016, Altman announced his expanded role as president of YC Group, which included Y Combinator and other units.[25] Altman said that he hoped to expand Y Combinator to fund 1,000 new companies per year. He also tried to expand the types of companies funded by YC, especially \"hard technology\" companies.[26] In October 2015, Altman announced YC Continuity, a $700 million equity fund investing in YC companies as they matured.[27] A week earlier, Altman had introduced Y Combinator Research, a non-profit research lab, and donated $10 million to fund it.[28] In March 2019, YC announced Altman\\'s transition from the president of the company to a less hands-on role as chairman of the board, for him to focus on OpenAI.[29][30] This decision came shortly after YC announced it would be moving its headquarters to San Francisco.[31][32] As of early 2020, he was no longer affiliated with YC.[5] It was later reported that Altman was fired from YC and had appointed himself chairman without authorization.[17]\\n'"
            ],
            "application/vnd.google.colaboratory.intrinsic+json": {
              "type": "string"
            }
          },
          "metadata": {},
          "execution_count": 3
        }
      ]
    },
    {
      "cell_type": "code",
      "source": [
        "import nltk\n",
        "from nltk.stem import PorterStemmer\n",
        "from nltk.corpus import stopwords"
      ],
      "metadata": {
        "id": "RkJfKcKwYHNy"
      },
      "execution_count": 4,
      "outputs": []
    },
    {
      "cell_type": "code",
      "source": [
        "# tokenization - converts paragraphs -- sentences -- words\n",
        "nltk.download('punkt')\n",
        "sentences = nltk.sent_tokenize(paragraph)"
      ],
      "metadata": {
        "colab": {
          "base_uri": "https://localhost:8080/"
        },
        "id": "ZJGfIahoYc4j",
        "outputId": "8c7b1466-2bae-46b4-8ee5-5470721a60bc"
      },
      "execution_count": 5,
      "outputs": [
        {
          "output_type": "stream",
          "name": "stderr",
          "text": [
            "[nltk_data] Downloading package punkt to /root/nltk_data...\n",
            "[nltk_data]   Unzipping tokenizers/punkt.zip.\n"
          ]
        }
      ]
    },
    {
      "cell_type": "code",
      "source": [
        "print(sentences)"
      ],
      "metadata": {
        "colab": {
          "base_uri": "https://localhost:8080/"
        },
        "id": "rcgMe7_iY7PL",
        "outputId": "3195ff12-ecab-4692-ea0c-8ec1eb765b49"
      },
      "execution_count": 6,
      "outputs": [
        {
          "output_type": "stream",
          "name": "stdout",
          "text": [
            "['\\nIn 2005, at the age of 19,[15] Altman co-founded Loopt,[16] a location-based social networking mobile application.', 'As CEO, Altman raised more than $30 million in venture capital for the company, including an initial investment of $5 million from Patrick Chung of Xfund and his team at NEA, which was later followed by investments from Sequoia Capital and Y Combinator.', '[17] In March 2012, after Loopt failed to gain traction with enough users, the company was acquired by the Green Dot Corporation for $43.4 million.', '[18] The following month, Altman co-founded Hydrazine Capital with his brother, Jack Altman,[19][20] which is still in operation.', '[21]\\n\\nAltman became a partner at Y Combinator, a startup accelerator that invests in a wide range of startups, in 2011, initially working there on a part-time basis.', '[22] In February 2014, Altman was named president of Y Combinator by co-founder Paul Graham.', '[23] In a 2014 blog post, Altman said that the total valuation of Y Combinator companies had surpassed $65 billion, including Airbnb, Dropbox, Zenefits and Stripe.', '[24] In September 2016, Altman announced his expanded role as president of YC Group, which included Y Combinator and other units.', '[25] Altman said that he hoped to expand Y Combinator to fund 1,000 new companies per year.', 'He also tried to expand the types of companies funded by YC, especially \"hard technology\" companies.', '[26] In October 2015, Altman announced YC Continuity, a $700 million equity fund investing in YC companies as they matured.', '[27] A week earlier, Altman had introduced Y Combinator Research, a non-profit research lab, and donated $10 million to fund it.', \"[28] In March 2019, YC announced Altman's transition from the president of the company to a less hands-on role as chairman of the board, for him to focus on OpenAI.\", '[29][30] This decision came shortly after YC announced it would be moving its headquarters to San Francisco.', '[31][32] As of early 2020, he was no longer affiliated with YC.', '[5] It was later reported that Altman was fired from YC and had appointed himself chairman without authorization.', '[17]']\n"
          ]
        }
      ]
    },
    {
      "cell_type": "code",
      "source": [
        "type(paragraph)"
      ],
      "metadata": {
        "colab": {
          "base_uri": "https://localhost:8080/"
        },
        "id": "cOC8H8v0ZGkd",
        "outputId": "3a4a8910-98ba-47a2-cb0b-3e2c2f6fcc41"
      },
      "execution_count": 7,
      "outputs": [
        {
          "output_type": "execute_result",
          "data": {
            "text/plain": [
              "str"
            ]
          },
          "metadata": {},
          "execution_count": 7
        }
      ]
    },
    {
      "cell_type": "code",
      "source": [
        "stemmer=PorterStemmer()"
      ],
      "metadata": {
        "id": "uG4NyMc0ZPwU"
      },
      "execution_count": 8,
      "outputs": []
    },
    {
      "cell_type": "code",
      "source": [
        "stemmer.stem('writing')"
      ],
      "metadata": {
        "colab": {
          "base_uri": "https://localhost:8080/",
          "height": 36
        },
        "id": "PHQVXC8i5KIG",
        "outputId": "e713e07a-0674-4087-c003-25fd308a64da"
      },
      "execution_count": 9,
      "outputs": [
        {
          "output_type": "execute_result",
          "data": {
            "text/plain": [
              "'write'"
            ],
            "application/vnd.google.colaboratory.intrinsic+json": {
              "type": "string"
            }
          },
          "metadata": {},
          "execution_count": 9
        }
      ]
    },
    {
      "cell_type": "code",
      "source": [
        "from nltk.stem import WordNetLemmatizer"
      ],
      "metadata": {
        "id": "PD84T2LR5YQD"
      },
      "execution_count": 10,
      "outputs": []
    },
    {
      "cell_type": "code",
      "source": [
        "lemmatizer=WordNetLemmatizer()"
      ],
      "metadata": {
        "id": "_sGrQXbs53y2"
      },
      "execution_count": 11,
      "outputs": []
    },
    {
      "cell_type": "code",
      "source": [
        "len(sentences)"
      ],
      "metadata": {
        "colab": {
          "base_uri": "https://localhost:8080/"
        },
        "id": "R4uINm4i5_xq",
        "outputId": "d4cf7939-e858-49bc-b3f2-d3b82f2e3c66"
      },
      "execution_count": 12,
      "outputs": [
        {
          "output_type": "execute_result",
          "data": {
            "text/plain": [
              "17"
            ]
          },
          "metadata": {},
          "execution_count": 12
        }
      ]
    },
    {
      "cell_type": "code",
      "source": [
        "import re\n",
        "corpus = []\n",
        "for i in range(len(sentences)):\n",
        "  review=re.sub('[^a-zA-Z]',' ',sentences[i])\n",
        "  review = review.lower()\n",
        "  corpus.append(review)"
      ],
      "metadata": {
        "id": "SVIpic3F6ZYi"
      },
      "execution_count": 13,
      "outputs": []
    },
    {
      "cell_type": "code",
      "source": [
        "corpus"
      ],
      "metadata": {
        "colab": {
          "base_uri": "https://localhost:8080/"
        },
        "id": "Vf8qSgcb7E-J",
        "outputId": "3c2a4188-d383-4e16-8884-59c7f3099c79"
      },
      "execution_count": 14,
      "outputs": [
        {
          "output_type": "execute_result",
          "data": {
            "text/plain": [
              "[' in       at the age of         altman co founded loopt      a location based social networking mobile application ',\n",
              " 'as ceo  altman raised more than     million in venture capital for the company  including an initial investment of    million from patrick chung of xfund and his team at nea  which was later followed by investments from sequoia capital and y combinator ',\n",
              " '     in march       after loopt failed to gain traction with enough users  the company was acquired by the green dot corporation for       million ',\n",
              " '     the following month  altman co founded hydrazine capital with his brother  jack altman          which is still in operation ',\n",
              " '      altman became a partner at y combinator  a startup accelerator that invests in a wide range of startups  in       initially working there on a part time basis ',\n",
              " '     in february       altman was named president of y combinator by co founder paul graham ',\n",
              " '     in a      blog post  altman said that the total valuation of y combinator companies had surpassed     billion  including airbnb  dropbox  zenefits and stripe ',\n",
              " '     in september       altman announced his expanded role as president of yc group  which included y combinator and other units ',\n",
              " '     altman said that he hoped to expand y combinator to fund       new companies per year ',\n",
              " 'he also tried to expand the types of companies funded by yc  especially  hard technology  companies ',\n",
              " '     in october       altman announced yc continuity  a      million equity fund investing in yc companies as they matured ',\n",
              " '     a week earlier  altman had introduced y combinator research  a non profit research lab  and donated     million to fund it ',\n",
              " '     in march       yc announced altman s transition from the president of the company to a less hands on role as chairman of the board  for him to focus on openai ',\n",
              " '         this decision came shortly after yc announced it would be moving its headquarters to san francisco ',\n",
              " '         as of early       he was no longer affiliated with yc ',\n",
              " '    it was later reported that altman was fired from yc and had appointed himself chairman without authorization ',\n",
              " '    ']"
            ]
          },
          "metadata": {},
          "execution_count": 14
        }
      ]
    },
    {
      "cell_type": "code",
      "source": [
        "nltk.download('stopwords')\n",
        "\n",
        "\n",
        "# stemming\n",
        "for i in corpus:\n",
        "    words=nltk.word_tokenize(i)\n",
        "    for word in words:\n",
        "      if word not in set(stopwords.words('english')):\n",
        "        print(stemmer.stem(word))"
      ],
      "metadata": {
        "colab": {
          "base_uri": "https://localhost:8080/"
        },
        "id": "5E42VDkJ7GI4",
        "outputId": "e6331c10-b85b-4950-e360-4a2789f5709c"
      },
      "execution_count": 15,
      "outputs": [
        {
          "output_type": "stream",
          "name": "stderr",
          "text": [
            "[nltk_data] Downloading package stopwords to /root/nltk_data...\n",
            "[nltk_data]   Unzipping corpora/stopwords.zip.\n"
          ]
        },
        {
          "output_type": "stream",
          "name": "stdout",
          "text": [
            "age\n",
            "altman\n",
            "co\n",
            "found\n",
            "loopt\n",
            "locat\n",
            "base\n",
            "social\n",
            "network\n",
            "mobil\n",
            "applic\n",
            "ceo\n",
            "altman\n",
            "rais\n",
            "million\n",
            "ventur\n",
            "capit\n",
            "compani\n",
            "includ\n",
            "initi\n",
            "invest\n",
            "million\n",
            "patrick\n",
            "chung\n",
            "xfund\n",
            "team\n",
            "nea\n",
            "later\n",
            "follow\n",
            "invest\n",
            "sequoia\n",
            "capit\n",
            "combin\n",
            "march\n",
            "loopt\n",
            "fail\n",
            "gain\n",
            "traction\n",
            "enough\n",
            "user\n",
            "compani\n",
            "acquir\n",
            "green\n",
            "dot\n",
            "corpor\n",
            "million\n",
            "follow\n",
            "month\n",
            "altman\n",
            "co\n",
            "found\n",
            "hydrazin\n",
            "capit\n",
            "brother\n",
            "jack\n",
            "altman\n",
            "still\n",
            "oper\n",
            "altman\n",
            "becam\n",
            "partner\n",
            "combin\n",
            "startup\n",
            "acceler\n",
            "invest\n",
            "wide\n",
            "rang\n",
            "startup\n",
            "initi\n",
            "work\n",
            "part\n",
            "time\n",
            "basi\n",
            "februari\n",
            "altman\n",
            "name\n",
            "presid\n",
            "combin\n",
            "co\n",
            "founder\n",
            "paul\n",
            "graham\n",
            "blog\n",
            "post\n",
            "altman\n",
            "said\n",
            "total\n",
            "valuat\n",
            "combin\n",
            "compani\n",
            "surpass\n",
            "billion\n",
            "includ\n",
            "airbnb\n",
            "dropbox\n",
            "zenefit\n",
            "stripe\n",
            "septemb\n",
            "altman\n",
            "announc\n",
            "expand\n",
            "role\n",
            "presid\n",
            "yc\n",
            "group\n",
            "includ\n",
            "combin\n",
            "unit\n",
            "altman\n",
            "said\n",
            "hope\n",
            "expand\n",
            "combin\n",
            "fund\n",
            "new\n",
            "compani\n",
            "per\n",
            "year\n",
            "also\n",
            "tri\n",
            "expand\n",
            "type\n",
            "compani\n",
            "fund\n",
            "yc\n",
            "especi\n",
            "hard\n",
            "technolog\n",
            "compani\n",
            "octob\n",
            "altman\n",
            "announc\n",
            "yc\n",
            "continu\n",
            "million\n",
            "equiti\n",
            "fund\n",
            "invest\n",
            "yc\n",
            "compani\n",
            "matur\n",
            "week\n",
            "earlier\n",
            "altman\n",
            "introduc\n",
            "combin\n",
            "research\n",
            "non\n",
            "profit\n",
            "research\n",
            "lab\n",
            "donat\n",
            "million\n",
            "fund\n",
            "march\n",
            "yc\n",
            "announc\n",
            "altman\n",
            "transit\n",
            "presid\n",
            "compani\n",
            "less\n",
            "hand\n",
            "role\n",
            "chairman\n",
            "board\n",
            "focu\n",
            "openai\n",
            "decis\n",
            "came\n",
            "shortli\n",
            "yc\n",
            "announc\n",
            "would\n",
            "move\n",
            "headquart\n",
            "san\n",
            "francisco\n",
            "earli\n",
            "longer\n",
            "affili\n",
            "yc\n",
            "later\n",
            "report\n",
            "altman\n",
            "fire\n",
            "yc\n",
            "appoint\n",
            "chairman\n",
            "without\n",
            "author\n"
          ]
        }
      ]
    },
    {
      "cell_type": "code",
      "source": [
        "from sklearn.feature_extraction.text import CountVectorizer\n",
        "cv=CountVectorizer()"
      ],
      "metadata": {
        "id": "1u2eNt8Z7xWV"
      },
      "execution_count": 16,
      "outputs": []
    },
    {
      "cell_type": "code",
      "source": [
        "X = cv.fit_transform(corpus)"
      ],
      "metadata": {
        "id": "bTaFkeuA8z8K"
      },
      "execution_count": 17,
      "outputs": []
    },
    {
      "cell_type": "code",
      "source": [
        "cv.vocabulary_"
      ],
      "metadata": {
        "colab": {
          "base_uri": "https://localhost:8080/"
        },
        "id": "ZoA5f3CT86kO",
        "outputId": "e145d3da-5b1a-489a-fa39-28d84d7d3554"
      },
      "execution_count": 18,
      "outputs": [
        {
          "output_type": "execute_result",
          "data": {
            "text/plain": [
              "{'in': 74,\n",
              " 'at': 14,\n",
              " 'the': 141,\n",
              " 'age': 4,\n",
              " 'of': 108,\n",
              " 'altman': 7,\n",
              " 'co': 30,\n",
              " 'founded': 54,\n",
              " 'loopt': 93,\n",
              " 'location': 91,\n",
              " 'based': 16,\n",
              " 'social': 131,\n",
              " 'networking': 103,\n",
              " 'mobile': 97,\n",
              " 'application': 11,\n",
              " 'as': 13,\n",
              " 'ceo': 27,\n",
              " 'raised': 121,\n",
              " 'more': 99,\n",
              " 'than': 139,\n",
              " 'million': 96,\n",
              " 'venture': 155,\n",
              " 'capital': 26,\n",
              " 'for': 53,\n",
              " 'company': 33,\n",
              " 'including': 76,\n",
              " 'an': 8,\n",
              " 'initial': 77,\n",
              " 'investment': 81,\n",
              " 'from': 57,\n",
              " 'patrick': 115,\n",
              " 'chung': 29,\n",
              " 'xfund': 164,\n",
              " 'and': 9,\n",
              " 'his': 71,\n",
              " 'team': 137,\n",
              " 'nea': 102,\n",
              " 'which': 158,\n",
              " 'was': 156,\n",
              " 'later': 89,\n",
              " 'followed': 51,\n",
              " 'by': 24,\n",
              " 'investments': 82,\n",
              " 'sequoia': 129,\n",
              " 'combinator': 31,\n",
              " 'march': 94,\n",
              " 'after': 3,\n",
              " 'failed': 47,\n",
              " 'to': 146,\n",
              " 'gain': 60,\n",
              " 'traction': 148,\n",
              " 'with': 160,\n",
              " 'enough': 42,\n",
              " 'users': 153,\n",
              " 'acquired': 1,\n",
              " 'green': 62,\n",
              " 'dot': 38,\n",
              " 'corporation': 35,\n",
              " 'following': 52,\n",
              " 'month': 98,\n",
              " 'hydrazine': 73,\n",
              " 'brother': 23,\n",
              " 'jack': 87,\n",
              " 'is': 84,\n",
              " 'still': 134,\n",
              " 'operation': 111,\n",
              " 'became': 19,\n",
              " 'partner': 114,\n",
              " 'startup': 132,\n",
              " 'accelerator': 0,\n",
              " 'that': 140,\n",
              " 'invests': 83,\n",
              " 'wide': 159,\n",
              " 'range': 122,\n",
              " 'startups': 133,\n",
              " 'initially': 78,\n",
              " 'working': 162,\n",
              " 'there': 142,\n",
              " 'on': 109,\n",
              " 'part': 113,\n",
              " 'time': 145,\n",
              " 'basis': 17,\n",
              " 'february': 48,\n",
              " 'named': 101,\n",
              " 'president': 119,\n",
              " 'founder': 55,\n",
              " 'paul': 116,\n",
              " 'graham': 61,\n",
              " 'blog': 21,\n",
              " 'post': 118,\n",
              " 'said': 126,\n",
              " 'total': 147,\n",
              " 'valuation': 154,\n",
              " 'companies': 32,\n",
              " 'had': 64,\n",
              " 'surpassed': 136,\n",
              " 'billion': 20,\n",
              " 'airbnb': 5,\n",
              " 'dropbox': 39,\n",
              " 'zenefits': 167,\n",
              " 'stripe': 135,\n",
              " 'september': 128,\n",
              " 'announced': 10,\n",
              " 'expanded': 46,\n",
              " 'role': 125,\n",
              " 'yc': 165,\n",
              " 'group': 63,\n",
              " 'included': 75,\n",
              " 'other': 112,\n",
              " 'units': 152,\n",
              " 'he': 67,\n",
              " 'hoped': 72,\n",
              " 'expand': 45,\n",
              " 'fund': 58,\n",
              " 'new': 104,\n",
              " 'per': 117,\n",
              " 'year': 166,\n",
              " 'also': 6,\n",
              " 'tried': 150,\n",
              " 'types': 151,\n",
              " 'funded': 59,\n",
              " 'especially': 44,\n",
              " 'hard': 66,\n",
              " 'technology': 138,\n",
              " 'october': 107,\n",
              " 'continuity': 34,\n",
              " 'equity': 43,\n",
              " 'investing': 80,\n",
              " 'they': 143,\n",
              " 'matured': 95,\n",
              " 'week': 157,\n",
              " 'earlier': 40,\n",
              " 'introduced': 79,\n",
              " 'research': 124,\n",
              " 'non': 106,\n",
              " 'profit': 120,\n",
              " 'lab': 88,\n",
              " 'donated': 37,\n",
              " 'it': 85,\n",
              " 'transition': 149,\n",
              " 'less': 90,\n",
              " 'hands': 65,\n",
              " 'chairman': 28,\n",
              " 'board': 22,\n",
              " 'him': 69,\n",
              " 'focus': 50,\n",
              " 'openai': 110,\n",
              " 'this': 144,\n",
              " 'decision': 36,\n",
              " 'came': 25,\n",
              " 'shortly': 130,\n",
              " 'would': 163,\n",
              " 'be': 18,\n",
              " 'moving': 100,\n",
              " 'its': 86,\n",
              " 'headquarters': 68,\n",
              " 'san': 127,\n",
              " 'francisco': 56,\n",
              " 'early': 41,\n",
              " 'no': 105,\n",
              " 'longer': 92,\n",
              " 'affiliated': 2,\n",
              " 'reported': 123,\n",
              " 'fired': 49,\n",
              " 'appointed': 12,\n",
              " 'himself': 70,\n",
              " 'without': 161,\n",
              " 'authorization': 15}"
            ]
          },
          "metadata": {},
          "execution_count": 18
        }
      ]
    },
    {
      "cell_type": "code",
      "source": [
        "corpus[0]"
      ],
      "metadata": {
        "colab": {
          "base_uri": "https://localhost:8080/",
          "height": 53
        },
        "id": "7ESE7-1-8-lS",
        "outputId": "e4e53d5c-57a0-4b59-b20e-12db07f9e865"
      },
      "execution_count": 19,
      "outputs": [
        {
          "output_type": "execute_result",
          "data": {
            "text/plain": [
              "' in       at the age of         altman co founded loopt      a location based social networking mobile application '"
            ],
            "application/vnd.google.colaboratory.intrinsic+json": {
              "type": "string"
            }
          },
          "metadata": {},
          "execution_count": 19
        }
      ]
    },
    {
      "cell_type": "code",
      "source": [
        "X[0].toarray()"
      ],
      "metadata": {
        "colab": {
          "base_uri": "https://localhost:8080/"
        },
        "id": "YHiTphr_9G5c",
        "outputId": "dd138eac-0aad-4190-c1c5-5cfb6a80fc45"
      },
      "execution_count": 21,
      "outputs": [
        {
          "output_type": "execute_result",
          "data": {
            "text/plain": [
              "array([[0, 0, 0, 0, 1, 0, 0, 1, 0, 0, 0, 1, 0, 0, 1, 0, 1, 0, 0, 0, 0, 0,\n",
              "        0, 0, 0, 0, 0, 0, 0, 0, 1, 0, 0, 0, 0, 0, 0, 0, 0, 0, 0, 0, 0, 0,\n",
              "        0, 0, 0, 0, 0, 0, 0, 0, 0, 0, 1, 0, 0, 0, 0, 0, 0, 0, 0, 0, 0, 0,\n",
              "        0, 0, 0, 0, 0, 0, 0, 0, 1, 0, 0, 0, 0, 0, 0, 0, 0, 0, 0, 0, 0, 0,\n",
              "        0, 0, 0, 1, 0, 1, 0, 0, 0, 1, 0, 0, 0, 0, 0, 1, 0, 0, 0, 0, 1, 0,\n",
              "        0, 0, 0, 0, 0, 0, 0, 0, 0, 0, 0, 0, 0, 0, 0, 0, 0, 0, 0, 0, 0, 1,\n",
              "        0, 0, 0, 0, 0, 0, 0, 0, 0, 1, 0, 0, 0, 0, 0, 0, 0, 0, 0, 0, 0, 0,\n",
              "        0, 0, 0, 0, 0, 0, 0, 0, 0, 0, 0, 0, 0, 0]])"
            ]
          },
          "metadata": {},
          "execution_count": 21
        }
      ]
    },
    {
      "cell_type": "code",
      "source": [],
      "metadata": {
        "id": "01zC9EGtRIGQ"
      },
      "execution_count": null,
      "outputs": []
    }
  ]
}